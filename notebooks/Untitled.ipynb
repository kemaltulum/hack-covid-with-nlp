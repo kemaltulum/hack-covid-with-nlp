{
 "cells": [
  {
   "cell_type": "code",
   "execution_count": 1,
   "metadata": {},
   "outputs": [],
   "source": [
    "import pandas as pd\n",
    "import numpy as np"
   ]
  },
  {
   "cell_type": "code",
   "execution_count": 14,
   "metadata": {},
   "outputs": [],
   "source": [
    "tweet_df = pd.read_csv('data/tweet_df_clustered.csv')\n",
    "summary_df_tfidf = pd.read_csv('data/summary_df_tf_idf.csv')\n",
    "summary_df_w2vec = pd.read_csv('data/summary_df_w2vec.csv')"
   ]
  },
  {
   "cell_type": "code",
   "execution_count": 15,
   "metadata": {},
   "outputs": [
    {
     "data": {
      "text/html": [
       "<div>\n",
       "<style scoped>\n",
       "    .dataframe tbody tr th:only-of-type {\n",
       "        vertical-align: middle;\n",
       "    }\n",
       "\n",
       "    .dataframe tbody tr th {\n",
       "        vertical-align: top;\n",
       "    }\n",
       "\n",
       "    .dataframe thead th {\n",
       "        text-align: right;\n",
       "    }\n",
       "</style>\n",
       "<table border=\"1\" class=\"dataframe\">\n",
       "  <thead>\n",
       "    <tr style=\"text-align: right;\">\n",
       "      <th></th>\n",
       "      <th>Unnamed: 0</th>\n",
       "      <th>Unnamed: 0.1</th>\n",
       "      <th>id</th>\n",
       "      <th>created_at</th>\n",
       "      <th>hashtag_id</th>\n",
       "      <th>full_text</th>\n",
       "      <th>retweet_count</th>\n",
       "      <th>favorite_count</th>\n",
       "      <th>user_follower_count</th>\n",
       "      <th>lemmatized_text</th>\n",
       "      <th>tokenized_text</th>\n",
       "      <th>num_of_hashtags</th>\n",
       "      <th>num_of_mentions</th>\n",
       "      <th>num_of_urls</th>\n",
       "      <th>processed_text</th>\n",
       "      <th>y</th>\n",
       "      <th>y_w2vec</th>\n",
       "    </tr>\n",
       "  </thead>\n",
       "  <tbody>\n",
       "    <tr>\n",
       "      <th>0</th>\n",
       "      <td>15705</td>\n",
       "      <td>15705</td>\n",
       "      <td>1248026625175846912</td>\n",
       "      <td>Wed Apr 08 23:15:09 +0000 2020</td>\n",
       "      <td>#neyinnesi</td>\n",
       "      <td>@fatihportakal Dava etmekte #neyinnesi ? \\nen ...</td>\n",
       "      <td>0</td>\n",
       "      <td>0</td>\n",
       "      <td>15</td>\n",
       "      <td>dava etmek en güzel cevap bu yapmak maalesef b...</td>\n",
       "      <td>dava etmekte  en güzel cevap bunu yapmamaktır...</td>\n",
       "      <td>1</td>\n",
       "      <td>1</td>\n",
       "      <td>0</td>\n",
       "      <td>dava etmek güzel cevap maalesef bilmek dava et...</td>\n",
       "      <td>11</td>\n",
       "      <td>19</td>\n",
       "    </tr>\n",
       "    <tr>\n",
       "      <th>1</th>\n",
       "      <td>15706</td>\n",
       "      <td>15706</td>\n",
       "      <td>1248022820296196096</td>\n",
       "      <td>Wed Apr 08 23:00:02 +0000 2020</td>\n",
       "      <td>#neyinnesi</td>\n",
       "      <td>Akşam İzledim. Kemal Sunal\\nKorkusuz Korkak......</td>\n",
       "      <td>2</td>\n",
       "      <td>6</td>\n",
       "      <td>1523</td>\n",
       "      <td>akşam izlemek Kemal Sunal korku korkak virüs g...</td>\n",
       "      <td>akşam izledim kemal sunal korkusuz korkak virü...</td>\n",
       "      <td>2</td>\n",
       "      <td>0</td>\n",
       "      <td>0</td>\n",
       "      <td>akşam izlemek kemal sunal korku korkak virüs g...</td>\n",
       "      <td>6</td>\n",
       "      <td>15</td>\n",
       "    </tr>\n",
       "    <tr>\n",
       "      <th>2</th>\n",
       "      <td>15707</td>\n",
       "      <td>15707</td>\n",
       "      <td>1248013747471319041</td>\n",
       "      <td>Wed Apr 08 22:23:59 +0000 2020</td>\n",
       "      <td>#neyinnesi</td>\n",
       "      <td>Gamzedeyim Deva Bulmam. İyi Geceler Twitter ai...</td>\n",
       "      <td>0</td>\n",
       "      <td>2</td>\n",
       "      <td>43</td>\n",
       "      <td>Gamze deva bulmak iyi gece Twitter aile hep es...</td>\n",
       "      <td>gamzedeyim deva bulmam iyi geceler twitter ail...</td>\n",
       "      <td>10</td>\n",
       "      <td>0</td>\n",
       "      <td>0</td>\n",
       "      <td>gamze deva bulmak iyi gece twitter aile esenli...</td>\n",
       "      <td>6</td>\n",
       "      <td>1</td>\n",
       "    </tr>\n",
       "    <tr>\n",
       "      <th>3</th>\n",
       "      <td>15708</td>\n",
       "      <td>15708</td>\n",
       "      <td>1247986594340110338</td>\n",
       "      <td>Wed Apr 08 20:36:05 +0000 2020</td>\n",
       "      <td>#neyinnesi</td>\n",
       "      <td>Reis tekalifi milliye deyince zıplayanlar #ney...</td>\n",
       "      <td>0</td>\n",
       "      <td>0</td>\n",
       "      <td>8</td>\n",
       "      <td>reis tekâlif Milliye deyi zıplamak demek  tâbi...</td>\n",
       "      <td>reis tekalifi millîye deyince zıplayanlar  diy...</td>\n",
       "      <td>1</td>\n",
       "      <td>0</td>\n",
       "      <td>0</td>\n",
       "      <td>reis tekâlif milliye deyi zıplamak demek tâbi ...</td>\n",
       "      <td>17</td>\n",
       "      <td>11</td>\n",
       "    </tr>\n",
       "    <tr>\n",
       "      <th>4</th>\n",
       "      <td>15709</td>\n",
       "      <td>15709</td>\n",
       "      <td>1247892958478659595</td>\n",
       "      <td>Wed Apr 08 14:24:00 +0000 2020</td>\n",
       "      <td>#neyinnesi</td>\n",
       "      <td>Şimdi sağlıkta eşitliği sağlamanın sağlıkta ta...</td>\n",
       "      <td>9</td>\n",
       "      <td>12</td>\n",
       "      <td>18</td>\n",
       "      <td>şimdi sağlık eşit sağlamak sağlık taşeron son ...</td>\n",
       "      <td>şimdi sağlıkta eşitliği sağlamanın sağlıkta ta...</td>\n",
       "      <td>6</td>\n",
       "      <td>2</td>\n",
       "      <td>0</td>\n",
       "      <td>sağlık eşit sağlamak sağlık taşeron son vermek...</td>\n",
       "      <td>13</td>\n",
       "      <td>7</td>\n",
       "    </tr>\n",
       "  </tbody>\n",
       "</table>\n",
       "</div>"
      ],
      "text/plain": [
       "   Unnamed: 0  Unnamed: 0.1                   id  \\\n",
       "0       15705         15705  1248026625175846912   \n",
       "1       15706         15706  1248022820296196096   \n",
       "2       15707         15707  1248013747471319041   \n",
       "3       15708         15708  1247986594340110338   \n",
       "4       15709         15709  1247892958478659595   \n",
       "\n",
       "                       created_at  hashtag_id  \\\n",
       "0  Wed Apr 08 23:15:09 +0000 2020  #neyinnesi   \n",
       "1  Wed Apr 08 23:00:02 +0000 2020  #neyinnesi   \n",
       "2  Wed Apr 08 22:23:59 +0000 2020  #neyinnesi   \n",
       "3  Wed Apr 08 20:36:05 +0000 2020  #neyinnesi   \n",
       "4  Wed Apr 08 14:24:00 +0000 2020  #neyinnesi   \n",
       "\n",
       "                                           full_text  retweet_count  \\\n",
       "0  @fatihportakal Dava etmekte #neyinnesi ? \\nen ...              0   \n",
       "1  Akşam İzledim. Kemal Sunal\\nKorkusuz Korkak......              2   \n",
       "2  Gamzedeyim Deva Bulmam. İyi Geceler Twitter ai...              0   \n",
       "3  Reis tekalifi milliye deyince zıplayanlar #ney...              0   \n",
       "4  Şimdi sağlıkta eşitliği sağlamanın sağlıkta ta...              9   \n",
       "\n",
       "   favorite_count  user_follower_count  \\\n",
       "0               0                   15   \n",
       "1               6                 1523   \n",
       "2               2                   43   \n",
       "3               0                    8   \n",
       "4              12                   18   \n",
       "\n",
       "                                     lemmatized_text  \\\n",
       "0  dava etmek en güzel cevap bu yapmak maalesef b...   \n",
       "1  akşam izlemek Kemal Sunal korku korkak virüs g...   \n",
       "2  Gamze deva bulmak iyi gece Twitter aile hep es...   \n",
       "3  reis tekâlif Milliye deyi zıplamak demek  tâbi...   \n",
       "4  şimdi sağlık eşit sağlamak sağlık taşeron son ...   \n",
       "\n",
       "                                      tokenized_text  num_of_hashtags  \\\n",
       "0   dava etmekte  en güzel cevap bunu yapmamaktır...                1   \n",
       "1  akşam izledim kemal sunal korkusuz korkak virü...                2   \n",
       "2  gamzedeyim deva bulmam iyi geceler twitter ail...               10   \n",
       "3  reis tekalifi millîye deyince zıplayanlar  diy...                1   \n",
       "4  şimdi sağlıkta eşitliği sağlamanın sağlıkta ta...                6   \n",
       "\n",
       "   num_of_mentions  num_of_urls  \\\n",
       "0                1            0   \n",
       "1                0            0   \n",
       "2                0            0   \n",
       "3                0            0   \n",
       "4                2            0   \n",
       "\n",
       "                                      processed_text   y  y_w2vec  \n",
       "0  dava etmek güzel cevap maalesef bilmek dava et...  11       19  \n",
       "1  akşam izlemek kemal sunal korku korkak virüs g...   6       15  \n",
       "2  gamze deva bulmak iyi gece twitter aile esenli...   6        1  \n",
       "3  reis tekâlif milliye deyi zıplamak demek tâbi ...  17       11  \n",
       "4  sağlık eşit sağlamak sağlık taşeron son vermek...  13        7  "
      ]
     },
     "execution_count": 15,
     "metadata": {},
     "output_type": "execute_result"
    }
   ],
   "source": [
    "tweet_df.head()"
   ]
  },
  {
   "cell_type": "code",
   "execution_count": 16,
   "metadata": {},
   "outputs": [],
   "source": [
    "def get_cluster_summary(cluster_id, method='w2vec'):\n",
    "    if method == 'w2vec':\n",
    "        return summary_df_w2vec[summary_df_w2vec['cluster_id'] == cluster_id]['keywords'].values[0]\n",
    "    elif method == 'tfidf':\n",
    "        return summary_df_tfidf[summary_df_tfidf['cluster_id'] == cluster_id]['keywords'].values[0]\n",
    "    else:\n",
    "        print(\"Invalid method\")"
   ]
  },
  {
   "cell_type": "code",
   "execution_count": 17,
   "metadata": {},
   "outputs": [
    {
     "data": {
      "text/plain": [
       "'ihtiyaç : okul : haziran kalmak : işçi : ihtiyaç duymak program : sürekli : sürekli güvenlik ihtiyaç : sürmek işçi pozisyon : güvenlik : program sürmek işçi pozisyon : ihtiyaç tweet tercüme : pozisyon işçi okul sürekli : güvenlik haziran kalmak sürekli : güvenlik haziran : işçi pozisyon : tercüme etmek : tweet tercüme etmek : işçi okul sürekli : etmek : and okul güvenlik haziran kalmak'"
      ]
     },
     "execution_count": 17,
     "metadata": {},
     "output_type": "execute_result"
    }
   ],
   "source": [
    "get_cluster_summary(0, method=\"tfidf\")"
   ]
  },
  {
   "cell_type": "code",
   "execution_count": 36,
   "metadata": {},
   "outputs": [],
   "source": [
    "def get_random_tweets_from_cluster(c_id, n=5, method='w2vec'):\n",
    "    if method == 'w2vec':\n",
    "        tweets = tweet_df[tweet_df['y_w2vec'] == c_id][['full_text', 'processed_text']].sample(n).values\n",
    "        for tweet in tweets:\n",
    "            print(tweet[0])\n",
    "            print(tweet[1])\n",
    "            print(\"----------------------------\")\n",
    "    elif method == 'tfidf':\n",
    "        tweets = tweet_df[tweet_df['y'] == c_id][['full_text', 'processed_text']].sample(n).values\n",
    "        for tweet in tweets:\n",
    "            print(tweet[0])\n",
    "            print(tweet[1])\n",
    "            print(\"----------------------------\")\n",
    "    else:\n",
    "        print('Invalid method')"
   ]
  },
  {
   "cell_type": "code",
   "execution_count": 39,
   "metadata": {},
   "outputs": [
    {
     "name": "stdout",
     "output_type": "stream",
     "text": [
      "Ümmet kafayı yiyeceğim\n",
      "Hani ŞEHİR hastaneleri yaptık\n",
      "Sahra hastanesine ne gerek var\n",
      "Vatan hainleri Şehir hastanelerini \n",
      "Çekemiyor diyorduk\n",
      "Şimdi sahra hastaneleri kuruluyor\n",
      "Bu yalanımızda götümüzde patladı \n",
      "Ne olacak bizim bu zavallı halimiz?..konuşun! 😎\n",
      "\n",
      "#neyinnesi\n",
      "#TamZamanı\n",
      "ümmet kafa yiyecek şehir hastane sahra hastane vatan hain şehir hastane çekmek demek sahra hastane kurmak yalan göt patlamak zavallı hal konuşmak\n",
      "----------------------------\n",
      "27 mart'ta @ekrem_imamoglu'nun \" atatürk havalimanı 'na sahra hastanesi kurulsun \" önerisi 11 gün sonra değerlendirmeye alındı ama tabii gene çok geç kalındı. bir de 45 gün'de yapacaklarmış. 45 güne hepimiz ölürüz herhalde. #neyinnesi #pazartesi #vaka30217\n",
      "mart atatürk havalimanı na sahra hastane kurul öneri gün değer almak tabiî gen geç kalmak gün gün ölmek herhâlde\n",
      "----------------------------\n",
      "Yıllarca hastane yapımını gereksiz gördünüz şimdi de hastane istemekte #neyinnesi  . Vaka sayısına bakarak\n",
      "Atatürk havalimanı er geç hastane olacaktı \n",
      "Ekrem önce hastane yolunu yapsın\n",
      "Buyrun hizmet görün\n",
      "Tabi gözünüz varsa https://t.co/xwf82hQKyT\n",
      "yıllarca hastane yapım görmek hastane istemek vaka sayı bakmak atatürk havalimanı er geç hastane ekrem hastane yol buyru hizmet görmek tâbi göz varmak\n",
      "----------------------------\n",
      "1 hafta önce \"Atatürk havalimanı hastane olarak kullanılabilir\" diyen Ekrem İmamoğlu'nu tebrik etmek lazım..\n",
      "Aynı şekilde Cumhurbaşkanı Recep Tayyip Erdoğanı da..\n",
      "Ülkeye ortak akıl  lazım bu günlerde...\n",
      "#neyinnesi\n",
      "hafta atatürk havalimanı hastane kullanmak demek ekrem ımamoğlu nu tebrik etmek lazım aynı şekil cumhurbaşkanı receptayyip erdoğan ülke ortak akıl lazım gün\n",
      "----------------------------\n",
      "@fatihportakal Fatih bey bir sağlık çalışanı olarak atatürk havaalanını hastane yapma fikri gibi geçtiğimiz yıllarda camileri yapmadan önce hastane fakülte yapsaydı şimdi bu.#neyinnesi\n",
      "sağlık çalışmak atatürk havaalanı hastane fikir geçmek yıl cami hastane fakülte\n",
      "----------------------------\n"
     ]
    }
   ],
   "source": [
    "get_random_tweets_from_cluster(4, method='tfidf')"
   ]
  },
  {
   "cell_type": "code",
   "execution_count": 40,
   "metadata": {},
   "outputs": [
    {
     "data": {
      "text/plain": [
       "'hastane : havalimanı : atatürk havalimanı : atatürk : demek : önem : yol : ekrem : imam'"
      ]
     },
     "execution_count": 40,
     "metadata": {},
     "output_type": "execute_result"
    }
   ],
   "source": [
    "get_cluster_summary(4, method='tfidf')"
   ]
  },
  {
   "cell_type": "code",
   "execution_count": null,
   "metadata": {},
   "outputs": [],
   "source": []
  }
 ],
 "metadata": {
  "kernelspec": {
   "display_name": "Python 3",
   "language": "python",
   "name": "python3"
  },
  "language_info": {
   "codemirror_mode": {
    "name": "ipython",
    "version": 3
   },
   "file_extension": ".py",
   "mimetype": "text/x-python",
   "name": "python",
   "nbconvert_exporter": "python",
   "pygments_lexer": "ipython3",
   "version": "3.7.6"
  }
 },
 "nbformat": 4,
 "nbformat_minor": 4
}
